{
  "metadata": {
    "kernelspec": {
      "name": "python",
      "display_name": "Python (Pyodide)",
      "language": "python"
    },
    "language_info": {
      "codemirror_mode": {
        "name": "python",
        "version": 3
      },
      "file_extension": ".py",
      "mimetype": "text/x-python",
      "name": "python",
      "nbconvert_exporter": "python",
      "pygments_lexer": "ipython3",
      "version": "3.8"
    }
  },
  "nbformat_minor": 4,
  "nbformat": 4,
  "cells": [
    {
      "cell_type": "markdown",
      "source": "# Phase#1:\n\n## Goal of Collecting the Dataset: \n\nThe dataset was collected to evaluate and predict students' adaptability levels in online education. It enables data scientists and researchers to explore factors influencing student performance and adaptability in virtual learning environments.\n\n## Source of the Dataset: \nKaggle Platform Dataset link: https://www.kaggle.com/datasets/mdmahmudulhasansuzan/students-adaptability-level-in-online-education\n\n**Read dataset** ",
      "metadata": {}
    },
    {
      "cell_type": "code",
      "source": "import pandas as pd\n\ndf = pd.read_csv('students_adaptability_level_online_education.csv')",
      "metadata": {
        "trusted": true
      },
      "outputs": [],
      "execution_count": 3
    },
    {
      "cell_type": "markdown",
      "source": "## General information about the dataset:\n\n- Number of Attributes: 14\n\n- Number of Objects: 1205 (students)\n\n- Class Name: Adaptivity Level",
      "metadata": {}
    },
    {
      "cell_type": "code",
      "source": "df.info()",
      "metadata": {
        "trusted": true
      },
      "outputs": [
        {
          "name": "stdout",
          "text": "<class 'pandas.core.frame.DataFrame'>\nRangeIndex: 1205 entries, 0 to 1204\nData columns (total 14 columns):\n #   Column               Non-Null Count  Dtype \n---  ------               --------------  ----- \n 0   Gender               1205 non-null   object\n 1   Age                  1205 non-null   object\n 2   Education Level      1205 non-null   object\n 3   Institution Type     1205 non-null   object\n 4   IT Student           1205 non-null   object\n 5   Location             1205 non-null   object\n 6   Load-shedding        1205 non-null   object\n 7   Financial Condition  1205 non-null   object\n 8   Internet Type        1205 non-null   object\n 9   Network Type         1205 non-null   object\n 10  Class Duration       1205 non-null   object\n 11  Self Lms             1205 non-null   object\n 12  Device               1205 non-null   object\n 13  Adaptivity Level     1205 non-null   object\ndtypes: object(14)\nmemory usage: 66.0+ KB\n",
          "output_type": "stream"
        }
      ],
      "execution_count": 4
    },
    {
      "cell_type": "markdown",
      "source": "## Type of Attributes:",
      "metadata": {}
    },
    {
      "cell_type": "markdown",
      "source": "| Attributes Name | Data type |\n|----------|----------|\n| Gender | Binary (Symmetric) |\n| Age | Ordinal |\n| Education Leve | Ordinal |\n| Institution Type | Binary (Asymmetric) |\n| IT Studen | Binary (Asymmetric) |\n| Location | Binary (Asymmetric) |\n| Load-shedding | Binary (Asymmetric) |\n| Financial Condition | Ordinal |\n| Internet Type | Nominal |\n| Network Type | Nominal |\n| Class Duration | Ordinal |\n| Self Lms | Binary (Asymmetric) |\n| Device | Nominal |\n| Adaptivity Level | Ordinal |",
      "metadata": {}
    },
    {
      "cell_type": "code",
      "source": "",
      "metadata": {
        "trusted": true
      },
      "outputs": [],
      "execution_count": null
    }
  ]
}