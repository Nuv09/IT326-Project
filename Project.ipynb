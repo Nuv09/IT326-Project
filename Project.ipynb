{
  "cells": [
    {
      "cell_type": "markdown",
      "metadata": {},
      "source": [
        "# IT326: Data mining project\n",
        "# Phase#1:\n",
        "\n",
        "## Goal of Collecting the Dataset: \n",
        "\n",
        "The dataset was collected to evaluate and predict students' adaptability levels in online education. It enables data scientists and researchers to explore factors influencing student performance and adaptability in virtual learning environments.\n",
        "\n",
        "## Source of the Dataset: \n",
        "Kaggle Platform Dataset link: https://www.kaggle.com/datasets/mdmahmudulhasansuzan/students-adaptability-level-in-online-education\n",
        "\n",
        "**Read dataset** "
      ]
    },
    {
      "cell_type": "code",
      "execution_count": 1,
      "metadata": {
        "trusted": true
      },
      "outputs": [],
      "source": [
        "import pandas as pd\n",
        "\n",
        "df = pd.read_csv('Dataset/students_adaptability_level_online_education.csv')"
      ]
    },
    {
      "cell_type": "markdown",
      "metadata": {},
      "source": [
        "## General information about the dataset:\n",
        "\n",
        "- Number of Attributes: 14\n",
        "\n",
        "- Number of Objects: 1205 (students)\n",
        "\n",
        "- Class Name: Adaptivity Level"
      ]
    },
    {
      "cell_type": "code",
      "execution_count": 2,
      "metadata": {
        "trusted": true
      },
      "outputs": [
        {
          "name": "stdout",
          "output_type": "stream",
          "text": [
            "<class 'pandas.core.frame.DataFrame'>\n",
            "RangeIndex: 1205 entries, 0 to 1204\n",
            "Data columns (total 14 columns):\n",
            " #   Column               Non-Null Count  Dtype \n",
            "---  ------               --------------  ----- \n",
            " 0   Gender               1205 non-null   object\n",
            " 1   Age                  1205 non-null   object\n",
            " 2   Education Level      1205 non-null   object\n",
            " 3   Institution Type     1205 non-null   object\n",
            " 4   IT Student           1205 non-null   object\n",
            " 5   Location             1205 non-null   object\n",
            " 6   Load-shedding        1205 non-null   object\n",
            " 7   Financial Condition  1205 non-null   object\n",
            " 8   Internet Type        1205 non-null   object\n",
            " 9   Network Type         1205 non-null   object\n",
            " 10  Class Duration       1205 non-null   object\n",
            " 11  Self Lms             1205 non-null   object\n",
            " 12  Device               1205 non-null   object\n",
            " 13  Adaptivity Level     1205 non-null   object\n",
            "dtypes: object(14)\n",
            "memory usage: 131.9+ KB\n"
          ]
        }
      ],
      "source": [
        "df.info()"
      ]
    },
    {
      "cell_type": "markdown",
      "metadata": {},
      "source": [
        "## Type of Attributes:"
      ]
    },
    {
      "cell_type": "markdown",
      "metadata": {},
      "source": [
        "| Attributes Name | Data type | Description | Possible Values |\n",
        "|----------|----------|----------|----------|\n",
        "| Gender | Binary | Student's gender type | Girl, Boy |\n",
        "| Age | Ordinal | Student's age range | 1-5, 6-10, 11-15, 16-20, 21-25, 26-30 |\n",
        "| Education Level | Nominal | Student's education institution level | School, College, University |\n",
        "| Institution Type | Binary | Student's education institution type | Government, Non Government |\n",
        "| IT Studen | Binary | Whether the student is studying IT or not | Yes, No |\n",
        "| Location | Binary | Whether the student is studying in their hometown | Yes, No |\n",
        "| Load-shedding | Binary | Level of load shedding | High, Low |\n",
        "| Financial Condition | Ordinal | Student's family's financial condition | Rich, Mid, Poor |\n",
        "| Internet Type | Binary | Student's most used internet type | Wifi, Mobile Data |\n",
        "| Network Type | Ordinal | Network connectivity type | 2G, 3G, 4G |\n",
        "| Class Duration | Ordinal | Student's daily class duration in hours | 0, 1-3, 3-6 |\n",
        "| Self Lms | Binary | Whether the student's institution has its own LMS | Yes, No |\n",
        "| Device | Nominal | Student's most used device in class | Computer, Tab, Mobile |\n",
        "| Adaptivity Level | Ordinal | Student's adaptibility level to online education | High, Moderate, Low |"
      ]
    },
    {
      "cell_type": "code",
      "execution_count": null,
      "metadata": {
        "trusted": true
      },
      "outputs": [],
      "source": []
    }
  ],
  "metadata": {
    "kernelspec": {
      "display_name": "Python 3",
      "language": "python",
      "name": "python3"
    },
    "language_info": {
      "codemirror_mode": {
        "name": "ipython",
        "version": 3
      },
      "file_extension": ".py",
      "mimetype": "text/x-python",
      "name": "python",
      "nbconvert_exporter": "python",
      "pygments_lexer": "ipython3",
      "version": "3.12.1"
    }
  },
  "nbformat": 4,
  "nbformat_minor": 4
}
