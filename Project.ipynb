{
  "cells": [
    {
      "cell_type": "markdown",
      "metadata": {},
      "source": [
        "# IT326: Data mining project\n",
        "# Phase#1:\n",
        "\n",
        "## Project Objectives: \n",
        "\n",
        "The primary goal of this project is to analyze and predict students' adaptability levels in online education using both classification and clustering techniques. The classification model aims to accurately predict a student's adaptability level based on various factors such as age, education level, and access to resources. Additionally, clustering techniques will be used to group students with similar adaptability patterns, allowing us to explore hidden segments within the data and better understand different student groups’ responses to online learning environments.\n",
        "\n",
        "## Source of the Dataset: \n",
        "Kaggle Platform Dataset link: https://www.kaggle.com/datasets/mdmahmudulhasansuzan/students-adaptability-level-in-online-education\n",
        "\n",
        "**Read dataset** "
      ]
    },
    {
      "cell_type": "code",
      "execution_count": 270,
      "metadata": {
        "trusted": true
      },
      "outputs": [],
      "source": [
        "import pandas as pd\n",
        "\n",
        "df = pd.read_csv('Dataset/students_adaptability_level_online_education.csv')"
      ]
    },
    {
      "cell_type": "markdown",
      "metadata": {},
      "source": [
        "## General information about the dataset:\n",
        "\n",
        "- Number of Attributes: 14\n",
        "\n",
        "- Number of Objects: 1205 (students)\n",
        "\n",
        "- Class Name: Adaptivity Level"
      ]
    },
    {
      "cell_type": "code",
      "execution_count": 271,
      "metadata": {
        "trusted": true
      },
      "outputs": [
        {
          "name": "stdout",
          "output_type": "stream",
          "text": [
            "<class 'pandas.core.frame.DataFrame'>\n",
            "RangeIndex: 1205 entries, 0 to 1204\n",
            "Data columns (total 14 columns):\n",
            " #   Column               Non-Null Count  Dtype \n",
            "---  ------               --------------  ----- \n",
            " 0   Gender               1205 non-null   object\n",
            " 1   Age                  1205 non-null   object\n",
            " 2   Education Level      1205 non-null   object\n",
            " 3   Institution Type     1205 non-null   object\n",
            " 4   IT Student           1205 non-null   object\n",
            " 5   Location             1205 non-null   object\n",
            " 6   Load-shedding        1205 non-null   object\n",
            " 7   Financial Condition  1205 non-null   object\n",
            " 8   Internet Type        1205 non-null   object\n",
            " 9   Network Type         1205 non-null   object\n",
            " 10  Class Duration       1205 non-null   object\n",
            " 11  Self Lms             1205 non-null   object\n",
            " 12  Device               1205 non-null   object\n",
            " 13  Adaptivity Level     1205 non-null   object\n",
            "dtypes: object(14)\n",
            "memory usage: 131.9+ KB\n"
          ]
        }
      ],
      "source": [
        "df.info()"
      ]
    },
    {
      "cell_type": "markdown",
      "metadata": {},
      "source": [
        "## Type of Attributes:"
      ]
    },
    {
      "cell_type": "markdown",
      "metadata": {},
      "source": [
        "| Attributes Name | Data type | Description | Possible Values |\n",
        "|----------|----------|----------|----------|\n",
        "| Gender | Binary | Student's gender type | Girl, Boy |\n",
        "| Age | Ordinal | Student's age range | 1-5, 6-10, 11-15, 16-20, 21-25, 26-30 |\n",
        "| Education Level | Nominal | Student's education institution level | School, College, University |\n",
        "| Institution Type | Binary | Student's education institution type | Government, Non Government |\n",
        "| IT Studen | Binary | Whether the student is studying IT or not | Yes, No |\n",
        "| Location | Binary | Whether the student is studying in their hometown | Yes, No |\n",
        "| Load-shedding | Binary | Level of load shedding | High, Low |\n",
        "| Financial Condition | Ordinal | Student's family's financial condition | Rich, Mid, Poor |\n",
        "| Internet Type | Binary | Student's most used internet type | Wifi, Mobile Data |\n",
        "| Network Type | Ordinal | Network connectivity type | 2G, 3G, 4G |\n",
        "| Class Duration | Ordinal | Student's daily class duration in hours | 0, 1-3, 3-6 |\n",
        "| Self Lms | Binary | Whether the student's institution has its own LMS | Yes, No |\n",
        "| Device | Nominal | Student's most used device in class | Computer, Tab, Mobile |\n",
        "| Adaptivity Level | Ordinal | Student's adaptibility level to online education | High, Moderate, Low |"
      ]
    },
    {
      "cell_type": "markdown",
      "metadata": {},
      "source": [
        "# Phase#2:\n",
        "\n",
        "### Loading the dataset and Import libraries:"
      ]
    },
    {
      "cell_type": "code",
      "execution_count": 272,
      "metadata": {},
      "outputs": [
        {
          "data": {
            "text/html": [
              "<div>\n",
              "<style scoped>\n",
              "    .dataframe tbody tr th:only-of-type {\n",
              "        vertical-align: middle;\n",
              "    }\n",
              "\n",
              "    .dataframe tbody tr th {\n",
              "        vertical-align: top;\n",
              "    }\n",
              "\n",
              "    .dataframe thead th {\n",
              "        text-align: right;\n",
              "    }\n",
              "</style>\n",
              "<table border=\"1\" class=\"dataframe\">\n",
              "  <thead>\n",
              "    <tr style=\"text-align: right;\">\n",
              "      <th></th>\n",
              "      <th>Gender</th>\n",
              "      <th>Age</th>\n",
              "      <th>Education Level</th>\n",
              "      <th>Institution Type</th>\n",
              "      <th>IT Student</th>\n",
              "      <th>Location</th>\n",
              "      <th>Load-shedding</th>\n",
              "      <th>Financial Condition</th>\n",
              "      <th>Internet Type</th>\n",
              "      <th>Network Type</th>\n",
              "      <th>Class Duration</th>\n",
              "      <th>Self Lms</th>\n",
              "      <th>Device</th>\n",
              "      <th>Adaptivity Level</th>\n",
              "    </tr>\n",
              "  </thead>\n",
              "  <tbody>\n",
              "    <tr>\n",
              "      <th>0</th>\n",
              "      <td>Boy</td>\n",
              "      <td>21-25</td>\n",
              "      <td>University</td>\n",
              "      <td>Non Government</td>\n",
              "      <td>No</td>\n",
              "      <td>Yes</td>\n",
              "      <td>Low</td>\n",
              "      <td>Mid</td>\n",
              "      <td>Wifi</td>\n",
              "      <td>4G</td>\n",
              "      <td>3-6</td>\n",
              "      <td>No</td>\n",
              "      <td>Tab</td>\n",
              "      <td>Moderate</td>\n",
              "    </tr>\n",
              "    <tr>\n",
              "      <th>1</th>\n",
              "      <td>Girl</td>\n",
              "      <td>21-25</td>\n",
              "      <td>University</td>\n",
              "      <td>Non Government</td>\n",
              "      <td>No</td>\n",
              "      <td>Yes</td>\n",
              "      <td>High</td>\n",
              "      <td>Mid</td>\n",
              "      <td>Mobile Data</td>\n",
              "      <td>4G</td>\n",
              "      <td>1-3</td>\n",
              "      <td>Yes</td>\n",
              "      <td>Mobile</td>\n",
              "      <td>Moderate</td>\n",
              "    </tr>\n",
              "    <tr>\n",
              "      <th>2</th>\n",
              "      <td>Girl</td>\n",
              "      <td>16-20</td>\n",
              "      <td>College</td>\n",
              "      <td>Government</td>\n",
              "      <td>No</td>\n",
              "      <td>Yes</td>\n",
              "      <td>Low</td>\n",
              "      <td>Mid</td>\n",
              "      <td>Wifi</td>\n",
              "      <td>4G</td>\n",
              "      <td>1-3</td>\n",
              "      <td>No</td>\n",
              "      <td>Mobile</td>\n",
              "      <td>Moderate</td>\n",
              "    </tr>\n",
              "    <tr>\n",
              "      <th>3</th>\n",
              "      <td>Girl</td>\n",
              "      <td>11-15</td>\n",
              "      <td>School</td>\n",
              "      <td>Non Government</td>\n",
              "      <td>No</td>\n",
              "      <td>Yes</td>\n",
              "      <td>Low</td>\n",
              "      <td>Mid</td>\n",
              "      <td>Mobile Data</td>\n",
              "      <td>4G</td>\n",
              "      <td>1-3</td>\n",
              "      <td>No</td>\n",
              "      <td>Mobile</td>\n",
              "      <td>Moderate</td>\n",
              "    </tr>\n",
              "    <tr>\n",
              "      <th>4</th>\n",
              "      <td>Girl</td>\n",
              "      <td>16-20</td>\n",
              "      <td>School</td>\n",
              "      <td>Non Government</td>\n",
              "      <td>No</td>\n",
              "      <td>Yes</td>\n",
              "      <td>Low</td>\n",
              "      <td>Poor</td>\n",
              "      <td>Mobile Data</td>\n",
              "      <td>3G</td>\n",
              "      <td>0</td>\n",
              "      <td>No</td>\n",
              "      <td>Mobile</td>\n",
              "      <td>Low</td>\n",
              "    </tr>\n",
              "    <tr>\n",
              "      <th>...</th>\n",
              "      <td>...</td>\n",
              "      <td>...</td>\n",
              "      <td>...</td>\n",
              "      <td>...</td>\n",
              "      <td>...</td>\n",
              "      <td>...</td>\n",
              "      <td>...</td>\n",
              "      <td>...</td>\n",
              "      <td>...</td>\n",
              "      <td>...</td>\n",
              "      <td>...</td>\n",
              "      <td>...</td>\n",
              "      <td>...</td>\n",
              "      <td>...</td>\n",
              "    </tr>\n",
              "    <tr>\n",
              "      <th>1200</th>\n",
              "      <td>Girl</td>\n",
              "      <td>16-20</td>\n",
              "      <td>College</td>\n",
              "      <td>Non Government</td>\n",
              "      <td>No</td>\n",
              "      <td>Yes</td>\n",
              "      <td>Low</td>\n",
              "      <td>Mid</td>\n",
              "      <td>Wifi</td>\n",
              "      <td>4G</td>\n",
              "      <td>1-3</td>\n",
              "      <td>No</td>\n",
              "      <td>Mobile</td>\n",
              "      <td>Low</td>\n",
              "    </tr>\n",
              "    <tr>\n",
              "      <th>1201</th>\n",
              "      <td>Girl</td>\n",
              "      <td>16-20</td>\n",
              "      <td>College</td>\n",
              "      <td>Non Government</td>\n",
              "      <td>No</td>\n",
              "      <td>No</td>\n",
              "      <td>High</td>\n",
              "      <td>Mid</td>\n",
              "      <td>Wifi</td>\n",
              "      <td>4G</td>\n",
              "      <td>3-6</td>\n",
              "      <td>No</td>\n",
              "      <td>Mobile</td>\n",
              "      <td>Moderate</td>\n",
              "    </tr>\n",
              "    <tr>\n",
              "      <th>1202</th>\n",
              "      <td>Boy</td>\n",
              "      <td>11-15</td>\n",
              "      <td>School</td>\n",
              "      <td>Non Government</td>\n",
              "      <td>No</td>\n",
              "      <td>Yes</td>\n",
              "      <td>Low</td>\n",
              "      <td>Mid</td>\n",
              "      <td>Mobile Data</td>\n",
              "      <td>3G</td>\n",
              "      <td>1-3</td>\n",
              "      <td>No</td>\n",
              "      <td>Mobile</td>\n",
              "      <td>Moderate</td>\n",
              "    </tr>\n",
              "    <tr>\n",
              "      <th>1203</th>\n",
              "      <td>Girl</td>\n",
              "      <td>16-20</td>\n",
              "      <td>College</td>\n",
              "      <td>Non Government</td>\n",
              "      <td>No</td>\n",
              "      <td>No</td>\n",
              "      <td>Low</td>\n",
              "      <td>Mid</td>\n",
              "      <td>Wifi</td>\n",
              "      <td>4G</td>\n",
              "      <td>1-3</td>\n",
              "      <td>No</td>\n",
              "      <td>Mobile</td>\n",
              "      <td>Low</td>\n",
              "    </tr>\n",
              "    <tr>\n",
              "      <th>1204</th>\n",
              "      <td>Girl</td>\n",
              "      <td>11-15</td>\n",
              "      <td>School</td>\n",
              "      <td>Non Government</td>\n",
              "      <td>No</td>\n",
              "      <td>Yes</td>\n",
              "      <td>Low</td>\n",
              "      <td>Poor</td>\n",
              "      <td>Mobile Data</td>\n",
              "      <td>3G</td>\n",
              "      <td>1-3</td>\n",
              "      <td>No</td>\n",
              "      <td>Mobile</td>\n",
              "      <td>Moderate</td>\n",
              "    </tr>\n",
              "  </tbody>\n",
              "</table>\n",
              "<p>1205 rows × 14 columns</p>\n",
              "</div>"
            ],
            "text/plain": [
              "     Gender    Age Education Level Institution Type IT Student Location  \\\n",
              "0       Boy  21-25      University   Non Government         No      Yes   \n",
              "1      Girl  21-25      University   Non Government         No      Yes   \n",
              "2      Girl  16-20         College       Government         No      Yes   \n",
              "3      Girl  11-15          School   Non Government         No      Yes   \n",
              "4      Girl  16-20          School   Non Government         No      Yes   \n",
              "...     ...    ...             ...              ...        ...      ...   \n",
              "1200   Girl  16-20         College   Non Government         No      Yes   \n",
              "1201   Girl  16-20         College   Non Government         No       No   \n",
              "1202    Boy  11-15          School   Non Government         No      Yes   \n",
              "1203   Girl  16-20         College   Non Government         No       No   \n",
              "1204   Girl  11-15          School   Non Government         No      Yes   \n",
              "\n",
              "     Load-shedding Financial Condition Internet Type Network Type  \\\n",
              "0              Low                 Mid          Wifi           4G   \n",
              "1             High                 Mid   Mobile Data           4G   \n",
              "2              Low                 Mid          Wifi           4G   \n",
              "3              Low                 Mid   Mobile Data           4G   \n",
              "4              Low                Poor   Mobile Data           3G   \n",
              "...            ...                 ...           ...          ...   \n",
              "1200           Low                 Mid          Wifi           4G   \n",
              "1201          High                 Mid          Wifi           4G   \n",
              "1202           Low                 Mid   Mobile Data           3G   \n",
              "1203           Low                 Mid          Wifi           4G   \n",
              "1204           Low                Poor   Mobile Data           3G   \n",
              "\n",
              "     Class Duration Self Lms  Device Adaptivity Level  \n",
              "0               3-6       No     Tab         Moderate  \n",
              "1               1-3      Yes  Mobile         Moderate  \n",
              "2               1-3       No  Mobile         Moderate  \n",
              "3               1-3       No  Mobile         Moderate  \n",
              "4                 0       No  Mobile              Low  \n",
              "...             ...      ...     ...              ...  \n",
              "1200            1-3       No  Mobile              Low  \n",
              "1201            3-6       No  Mobile         Moderate  \n",
              "1202            1-3       No  Mobile         Moderate  \n",
              "1203            1-3       No  Mobile              Low  \n",
              "1204            1-3       No  Mobile         Moderate  \n",
              "\n",
              "[1205 rows x 14 columns]"
            ]
          },
          "execution_count": 272,
          "metadata": {},
          "output_type": "execute_result"
        }
      ],
      "source": [
        "import pandas as pd\n",
        "import warnings\n",
        "warnings.filterwarnings(\"ignore\", category=FutureWarning)\n",
        "\n",
        "df = pd.read_csv('Dataset/students_adaptability_level_online_education.csv')\n",
        "df"
      ]
    },
    {
      "cell_type": "markdown",
      "metadata": {},
      "source": [
        "1- Sample of dataset:"
      ]
    },
    {
      "cell_type": "code",
      "execution_count": 273,
      "metadata": {},
      "outputs": [
        {
          "data": {
            "text/html": [
              "<div>\n",
              "<style scoped>\n",
              "    .dataframe tbody tr th:only-of-type {\n",
              "        vertical-align: middle;\n",
              "    }\n",
              "\n",
              "    .dataframe tbody tr th {\n",
              "        vertical-align: top;\n",
              "    }\n",
              "\n",
              "    .dataframe thead th {\n",
              "        text-align: right;\n",
              "    }\n",
              "</style>\n",
              "<table border=\"1\" class=\"dataframe\">\n",
              "  <thead>\n",
              "    <tr style=\"text-align: right;\">\n",
              "      <th></th>\n",
              "      <th>Gender</th>\n",
              "      <th>Age</th>\n",
              "      <th>Education Level</th>\n",
              "      <th>Institution Type</th>\n",
              "      <th>IT Student</th>\n",
              "      <th>Location</th>\n",
              "      <th>Load-shedding</th>\n",
              "      <th>Financial Condition</th>\n",
              "      <th>Internet Type</th>\n",
              "      <th>Network Type</th>\n",
              "      <th>Class Duration</th>\n",
              "      <th>Self Lms</th>\n",
              "      <th>Device</th>\n",
              "      <th>Adaptivity Level</th>\n",
              "    </tr>\n",
              "  </thead>\n",
              "  <tbody>\n",
              "    <tr>\n",
              "      <th>959</th>\n",
              "      <td>Girl</td>\n",
              "      <td>21-25</td>\n",
              "      <td>University</td>\n",
              "      <td>Non Government</td>\n",
              "      <td>No</td>\n",
              "      <td>Yes</td>\n",
              "      <td>Low</td>\n",
              "      <td>Mid</td>\n",
              "      <td>Wifi</td>\n",
              "      <td>4G</td>\n",
              "      <td>3-6</td>\n",
              "      <td>No</td>\n",
              "      <td>Tab</td>\n",
              "      <td>Moderate</td>\n",
              "    </tr>\n",
              "    <tr>\n",
              "      <th>312</th>\n",
              "      <td>Boy</td>\n",
              "      <td>11-15</td>\n",
              "      <td>School</td>\n",
              "      <td>Non Government</td>\n",
              "      <td>No</td>\n",
              "      <td>Yes</td>\n",
              "      <td>Low</td>\n",
              "      <td>Poor</td>\n",
              "      <td>Mobile Data</td>\n",
              "      <td>3G</td>\n",
              "      <td>1-3</td>\n",
              "      <td>No</td>\n",
              "      <td>Mobile</td>\n",
              "      <td>Moderate</td>\n",
              "    </tr>\n",
              "    <tr>\n",
              "      <th>998</th>\n",
              "      <td>Girl</td>\n",
              "      <td>11-15</td>\n",
              "      <td>School</td>\n",
              "      <td>Government</td>\n",
              "      <td>No</td>\n",
              "      <td>Yes</td>\n",
              "      <td>Low</td>\n",
              "      <td>Rich</td>\n",
              "      <td>Wifi</td>\n",
              "      <td>4G</td>\n",
              "      <td>1-3</td>\n",
              "      <td>No</td>\n",
              "      <td>Mobile</td>\n",
              "      <td>Low</td>\n",
              "    </tr>\n",
              "    <tr>\n",
              "      <th>1163</th>\n",
              "      <td>Boy</td>\n",
              "      <td>11-15</td>\n",
              "      <td>School</td>\n",
              "      <td>Non Government</td>\n",
              "      <td>No</td>\n",
              "      <td>Yes</td>\n",
              "      <td>Low</td>\n",
              "      <td>Mid</td>\n",
              "      <td>Mobile Data</td>\n",
              "      <td>4G</td>\n",
              "      <td>3-6</td>\n",
              "      <td>No</td>\n",
              "      <td>Mobile</td>\n",
              "      <td>Moderate</td>\n",
              "    </tr>\n",
              "    <tr>\n",
              "      <th>136</th>\n",
              "      <td>Girl</td>\n",
              "      <td>16-20</td>\n",
              "      <td>School</td>\n",
              "      <td>Non Government</td>\n",
              "      <td>No</td>\n",
              "      <td>Yes</td>\n",
              "      <td>Low</td>\n",
              "      <td>Poor</td>\n",
              "      <td>Mobile Data</td>\n",
              "      <td>3G</td>\n",
              "      <td>0</td>\n",
              "      <td>No</td>\n",
              "      <td>Mobile</td>\n",
              "      <td>Low</td>\n",
              "    </tr>\n",
              "    <tr>\n",
              "      <th>601</th>\n",
              "      <td>Girl</td>\n",
              "      <td>21-25</td>\n",
              "      <td>University</td>\n",
              "      <td>Government</td>\n",
              "      <td>No</td>\n",
              "      <td>Yes</td>\n",
              "      <td>Low</td>\n",
              "      <td>Poor</td>\n",
              "      <td>Mobile Data</td>\n",
              "      <td>4G</td>\n",
              "      <td>0</td>\n",
              "      <td>No</td>\n",
              "      <td>Mobile</td>\n",
              "      <td>Low</td>\n",
              "    </tr>\n",
              "    <tr>\n",
              "      <th>174</th>\n",
              "      <td>Boy</td>\n",
              "      <td>11-15</td>\n",
              "      <td>School</td>\n",
              "      <td>Government</td>\n",
              "      <td>No</td>\n",
              "      <td>Yes</td>\n",
              "      <td>Low</td>\n",
              "      <td>Mid</td>\n",
              "      <td>Mobile Data</td>\n",
              "      <td>4G</td>\n",
              "      <td>1-3</td>\n",
              "      <td>No</td>\n",
              "      <td>Mobile</td>\n",
              "      <td>Moderate</td>\n",
              "    </tr>\n",
              "    <tr>\n",
              "      <th>822</th>\n",
              "      <td>Boy</td>\n",
              "      <td>11-15</td>\n",
              "      <td>School</td>\n",
              "      <td>Non Government</td>\n",
              "      <td>No</td>\n",
              "      <td>Yes</td>\n",
              "      <td>Low</td>\n",
              "      <td>Mid</td>\n",
              "      <td>Mobile Data</td>\n",
              "      <td>4G</td>\n",
              "      <td>1-3</td>\n",
              "      <td>No</td>\n",
              "      <td>Mobile</td>\n",
              "      <td>High</td>\n",
              "    </tr>\n",
              "    <tr>\n",
              "      <th>271</th>\n",
              "      <td>Boy</td>\n",
              "      <td>21-25</td>\n",
              "      <td>University</td>\n",
              "      <td>Non Government</td>\n",
              "      <td>No</td>\n",
              "      <td>Yes</td>\n",
              "      <td>Low</td>\n",
              "      <td>Mid</td>\n",
              "      <td>Wifi</td>\n",
              "      <td>4G</td>\n",
              "      <td>3-6</td>\n",
              "      <td>No</td>\n",
              "      <td>Mobile</td>\n",
              "      <td>Moderate</td>\n",
              "    </tr>\n",
              "    <tr>\n",
              "      <th>703</th>\n",
              "      <td>Girl</td>\n",
              "      <td>1-5</td>\n",
              "      <td>School</td>\n",
              "      <td>Government</td>\n",
              "      <td>No</td>\n",
              "      <td>Yes</td>\n",
              "      <td>Low</td>\n",
              "      <td>Rich</td>\n",
              "      <td>Mobile Data</td>\n",
              "      <td>4G</td>\n",
              "      <td>1-3</td>\n",
              "      <td>Yes</td>\n",
              "      <td>Mobile</td>\n",
              "      <td>Low</td>\n",
              "    </tr>\n",
              "    <tr>\n",
              "      <th>437</th>\n",
              "      <td>Girl</td>\n",
              "      <td>21-25</td>\n",
              "      <td>University</td>\n",
              "      <td>Non Government</td>\n",
              "      <td>No</td>\n",
              "      <td>Yes</td>\n",
              "      <td>Low</td>\n",
              "      <td>Mid</td>\n",
              "      <td>Wifi</td>\n",
              "      <td>4G</td>\n",
              "      <td>3-6</td>\n",
              "      <td>No</td>\n",
              "      <td>Tab</td>\n",
              "      <td>Moderate</td>\n",
              "    </tr>\n",
              "    <tr>\n",
              "      <th>709</th>\n",
              "      <td>Boy</td>\n",
              "      <td>16-20</td>\n",
              "      <td>College</td>\n",
              "      <td>Government</td>\n",
              "      <td>Yes</td>\n",
              "      <td>Yes</td>\n",
              "      <td>Low</td>\n",
              "      <td>Mid</td>\n",
              "      <td>Mobile Data</td>\n",
              "      <td>4G</td>\n",
              "      <td>1-3</td>\n",
              "      <td>No</td>\n",
              "      <td>Mobile</td>\n",
              "      <td>Moderate</td>\n",
              "    </tr>\n",
              "    <tr>\n",
              "      <th>798</th>\n",
              "      <td>Girl</td>\n",
              "      <td>1-5</td>\n",
              "      <td>School</td>\n",
              "      <td>Non Government</td>\n",
              "      <td>No</td>\n",
              "      <td>Yes</td>\n",
              "      <td>Low</td>\n",
              "      <td>Mid</td>\n",
              "      <td>Mobile Data</td>\n",
              "      <td>4G</td>\n",
              "      <td>1-3</td>\n",
              "      <td>No</td>\n",
              "      <td>Mobile</td>\n",
              "      <td>Moderate</td>\n",
              "    </tr>\n",
              "    <tr>\n",
              "      <th>1086</th>\n",
              "      <td>Boy</td>\n",
              "      <td>16-20</td>\n",
              "      <td>College</td>\n",
              "      <td>Government</td>\n",
              "      <td>Yes</td>\n",
              "      <td>No</td>\n",
              "      <td>Low</td>\n",
              "      <td>Mid</td>\n",
              "      <td>Mobile Data</td>\n",
              "      <td>4G</td>\n",
              "      <td>0</td>\n",
              "      <td>No</td>\n",
              "      <td>Mobile</td>\n",
              "      <td>Low</td>\n",
              "    </tr>\n",
              "    <tr>\n",
              "      <th>170</th>\n",
              "      <td>Boy</td>\n",
              "      <td>21-25</td>\n",
              "      <td>University</td>\n",
              "      <td>Non Government</td>\n",
              "      <td>Yes</td>\n",
              "      <td>Yes</td>\n",
              "      <td>Low</td>\n",
              "      <td>Mid</td>\n",
              "      <td>Wifi</td>\n",
              "      <td>3G</td>\n",
              "      <td>1-3</td>\n",
              "      <td>Yes</td>\n",
              "      <td>Computer</td>\n",
              "      <td>Moderate</td>\n",
              "    </tr>\n",
              "    <tr>\n",
              "      <th>1169</th>\n",
              "      <td>Girl</td>\n",
              "      <td>16-20</td>\n",
              "      <td>College</td>\n",
              "      <td>Non Government</td>\n",
              "      <td>No</td>\n",
              "      <td>No</td>\n",
              "      <td>Low</td>\n",
              "      <td>Mid</td>\n",
              "      <td>Mobile Data</td>\n",
              "      <td>3G</td>\n",
              "      <td>3-6</td>\n",
              "      <td>Yes</td>\n",
              "      <td>Mobile</td>\n",
              "      <td>Low</td>\n",
              "    </tr>\n",
              "    <tr>\n",
              "      <th>908</th>\n",
              "      <td>Boy</td>\n",
              "      <td>6-10</td>\n",
              "      <td>School</td>\n",
              "      <td>Non Government</td>\n",
              "      <td>No</td>\n",
              "      <td>Yes</td>\n",
              "      <td>Low</td>\n",
              "      <td>Rich</td>\n",
              "      <td>Wifi</td>\n",
              "      <td>4G</td>\n",
              "      <td>1-3</td>\n",
              "      <td>No</td>\n",
              "      <td>Mobile</td>\n",
              "      <td>Moderate</td>\n",
              "    </tr>\n",
              "    <tr>\n",
              "      <th>1171</th>\n",
              "      <td>Boy</td>\n",
              "      <td>26-30</td>\n",
              "      <td>University</td>\n",
              "      <td>Government</td>\n",
              "      <td>Yes</td>\n",
              "      <td>Yes</td>\n",
              "      <td>Low</td>\n",
              "      <td>Rich</td>\n",
              "      <td>Wifi</td>\n",
              "      <td>4G</td>\n",
              "      <td>1-3</td>\n",
              "      <td>No</td>\n",
              "      <td>Mobile</td>\n",
              "      <td>High</td>\n",
              "    </tr>\n",
              "    <tr>\n",
              "      <th>371</th>\n",
              "      <td>Boy</td>\n",
              "      <td>21-25</td>\n",
              "      <td>University</td>\n",
              "      <td>Non Government</td>\n",
              "      <td>Yes</td>\n",
              "      <td>Yes</td>\n",
              "      <td>High</td>\n",
              "      <td>Mid</td>\n",
              "      <td>Mobile Data</td>\n",
              "      <td>3G</td>\n",
              "      <td>3-6</td>\n",
              "      <td>Yes</td>\n",
              "      <td>Mobile</td>\n",
              "      <td>Moderate</td>\n",
              "    </tr>\n",
              "    <tr>\n",
              "      <th>1036</th>\n",
              "      <td>Boy</td>\n",
              "      <td>1-5</td>\n",
              "      <td>School</td>\n",
              "      <td>Non Government</td>\n",
              "      <td>No</td>\n",
              "      <td>Yes</td>\n",
              "      <td>Low</td>\n",
              "      <td>Mid</td>\n",
              "      <td>Wifi</td>\n",
              "      <td>4G</td>\n",
              "      <td>1-3</td>\n",
              "      <td>No</td>\n",
              "      <td>Mobile</td>\n",
              "      <td>Low</td>\n",
              "    </tr>\n",
              "  </tbody>\n",
              "</table>\n",
              "</div>"
            ],
            "text/plain": [
              "     Gender    Age Education Level Institution Type IT Student Location  \\\n",
              "959    Girl  21-25      University   Non Government         No      Yes   \n",
              "312     Boy  11-15          School   Non Government         No      Yes   \n",
              "998    Girl  11-15          School       Government         No      Yes   \n",
              "1163    Boy  11-15          School   Non Government         No      Yes   \n",
              "136    Girl  16-20          School   Non Government         No      Yes   \n",
              "601    Girl  21-25      University       Government         No      Yes   \n",
              "174     Boy  11-15          School       Government         No      Yes   \n",
              "822     Boy  11-15          School   Non Government         No      Yes   \n",
              "271     Boy  21-25      University   Non Government         No      Yes   \n",
              "703    Girl    1-5          School       Government         No      Yes   \n",
              "437    Girl  21-25      University   Non Government         No      Yes   \n",
              "709     Boy  16-20         College       Government        Yes      Yes   \n",
              "798    Girl    1-5          School   Non Government         No      Yes   \n",
              "1086    Boy  16-20         College       Government        Yes       No   \n",
              "170     Boy  21-25      University   Non Government        Yes      Yes   \n",
              "1169   Girl  16-20         College   Non Government         No       No   \n",
              "908     Boy   6-10          School   Non Government         No      Yes   \n",
              "1171    Boy  26-30      University       Government        Yes      Yes   \n",
              "371     Boy  21-25      University   Non Government        Yes      Yes   \n",
              "1036    Boy    1-5          School   Non Government         No      Yes   \n",
              "\n",
              "     Load-shedding Financial Condition Internet Type Network Type  \\\n",
              "959            Low                 Mid          Wifi           4G   \n",
              "312            Low                Poor   Mobile Data           3G   \n",
              "998            Low                Rich          Wifi           4G   \n",
              "1163           Low                 Mid   Mobile Data           4G   \n",
              "136            Low                Poor   Mobile Data           3G   \n",
              "601            Low                Poor   Mobile Data           4G   \n",
              "174            Low                 Mid   Mobile Data           4G   \n",
              "822            Low                 Mid   Mobile Data           4G   \n",
              "271            Low                 Mid          Wifi           4G   \n",
              "703            Low                Rich   Mobile Data           4G   \n",
              "437            Low                 Mid          Wifi           4G   \n",
              "709            Low                 Mid   Mobile Data           4G   \n",
              "798            Low                 Mid   Mobile Data           4G   \n",
              "1086           Low                 Mid   Mobile Data           4G   \n",
              "170            Low                 Mid          Wifi           3G   \n",
              "1169           Low                 Mid   Mobile Data           3G   \n",
              "908            Low                Rich          Wifi           4G   \n",
              "1171           Low                Rich          Wifi           4G   \n",
              "371           High                 Mid   Mobile Data           3G   \n",
              "1036           Low                 Mid          Wifi           4G   \n",
              "\n",
              "     Class Duration Self Lms    Device Adaptivity Level  \n",
              "959             3-6       No       Tab         Moderate  \n",
              "312             1-3       No    Mobile         Moderate  \n",
              "998             1-3       No    Mobile              Low  \n",
              "1163            3-6       No    Mobile         Moderate  \n",
              "136               0       No    Mobile              Low  \n",
              "601               0       No    Mobile              Low  \n",
              "174             1-3       No    Mobile         Moderate  \n",
              "822             1-3       No    Mobile             High  \n",
              "271             3-6       No    Mobile         Moderate  \n",
              "703             1-3      Yes    Mobile              Low  \n",
              "437             3-6       No       Tab         Moderate  \n",
              "709             1-3       No    Mobile         Moderate  \n",
              "798             1-3       No    Mobile         Moderate  \n",
              "1086              0       No    Mobile              Low  \n",
              "170             1-3      Yes  Computer         Moderate  \n",
              "1169            3-6      Yes    Mobile              Low  \n",
              "908             1-3       No    Mobile         Moderate  \n",
              "1171            1-3       No    Mobile             High  \n",
              "371             3-6      Yes    Mobile         Moderate  \n",
              "1036            1-3       No    Mobile              Low  "
            ]
          },
          "execution_count": 273,
          "metadata": {},
          "output_type": "execute_result"
        }
      ],
      "source": [
        "sample_data = df.sample(n=20);\n",
        "sample_data"
      ]
    },
    {
      "cell_type": "markdown",
      "metadata": {},
      "source": [
        "2- Show missing value:\n",
        "\n",
        "- We have no missing values"
      ]
    },
    {
      "cell_type": "code",
      "execution_count": 274,
      "metadata": {},
      "outputs": [
        {
          "name": "stdout",
          "output_type": "stream",
          "text": [
            "\n",
            "Total number of missing values in the dataset: 0\n",
            "\n",
            "Missing Values:\n"
          ]
        },
        {
          "data": {
            "text/html": [
              "<div>\n",
              "<style scoped>\n",
              "    .dataframe tbody tr th:only-of-type {\n",
              "        vertical-align: middle;\n",
              "    }\n",
              "\n",
              "    .dataframe tbody tr th {\n",
              "        vertical-align: top;\n",
              "    }\n",
              "\n",
              "    .dataframe thead th {\n",
              "        text-align: right;\n",
              "    }\n",
              "</style>\n",
              "<table border=\"1\" class=\"dataframe\">\n",
              "  <thead>\n",
              "    <tr style=\"text-align: right;\">\n",
              "      <th></th>\n",
              "      <th>Variable</th>\n",
              "      <th>Missing Values</th>\n",
              "    </tr>\n",
              "  </thead>\n",
              "  <tbody>\n",
              "    <tr>\n",
              "      <th>0</th>\n",
              "      <td>Gender</td>\n",
              "      <td>0</td>\n",
              "    </tr>\n",
              "    <tr>\n",
              "      <th>1</th>\n",
              "      <td>Age</td>\n",
              "      <td>0</td>\n",
              "    </tr>\n",
              "    <tr>\n",
              "      <th>2</th>\n",
              "      <td>Education Level</td>\n",
              "      <td>0</td>\n",
              "    </tr>\n",
              "    <tr>\n",
              "      <th>3</th>\n",
              "      <td>Institution Type</td>\n",
              "      <td>0</td>\n",
              "    </tr>\n",
              "    <tr>\n",
              "      <th>4</th>\n",
              "      <td>IT Student</td>\n",
              "      <td>0</td>\n",
              "    </tr>\n",
              "    <tr>\n",
              "      <th>5</th>\n",
              "      <td>Location</td>\n",
              "      <td>0</td>\n",
              "    </tr>\n",
              "    <tr>\n",
              "      <th>6</th>\n",
              "      <td>Load-shedding</td>\n",
              "      <td>0</td>\n",
              "    </tr>\n",
              "    <tr>\n",
              "      <th>7</th>\n",
              "      <td>Financial Condition</td>\n",
              "      <td>0</td>\n",
              "    </tr>\n",
              "    <tr>\n",
              "      <th>8</th>\n",
              "      <td>Internet Type</td>\n",
              "      <td>0</td>\n",
              "    </tr>\n",
              "    <tr>\n",
              "      <th>9</th>\n",
              "      <td>Network Type</td>\n",
              "      <td>0</td>\n",
              "    </tr>\n",
              "    <tr>\n",
              "      <th>10</th>\n",
              "      <td>Class Duration</td>\n",
              "      <td>0</td>\n",
              "    </tr>\n",
              "    <tr>\n",
              "      <th>11</th>\n",
              "      <td>Self Lms</td>\n",
              "      <td>0</td>\n",
              "    </tr>\n",
              "    <tr>\n",
              "      <th>12</th>\n",
              "      <td>Device</td>\n",
              "      <td>0</td>\n",
              "    </tr>\n",
              "    <tr>\n",
              "      <th>13</th>\n",
              "      <td>Adaptivity Level</td>\n",
              "      <td>0</td>\n",
              "    </tr>\n",
              "  </tbody>\n",
              "</table>\n",
              "</div>"
            ],
            "text/plain": [
              "               Variable  Missing Values\n",
              "0                Gender               0\n",
              "1                   Age               0\n",
              "2       Education Level               0\n",
              "3      Institution Type               0\n",
              "4            IT Student               0\n",
              "5              Location               0\n",
              "6         Load-shedding               0\n",
              "7   Financial Condition               0\n",
              "8         Internet Type               0\n",
              "9          Network Type               0\n",
              "10       Class Duration               0\n",
              "11             Self Lms               0\n",
              "12               Device               0\n",
              "13     Adaptivity Level               0"
            ]
          },
          "metadata": {},
          "output_type": "display_data"
        }
      ],
      "source": [
        "missing_values = df.isna().sum()\n",
        "print(\"\\nTotal number of missing values in the dataset:\", missing_values.sum())\n",
        "\n",
        "# Creates a table that counts the number of missing values for each variable in the dataset\n",
        "print(\"\\nMissing Values:\")\n",
        "missing_table = pd.DataFrame({'Variable': missing_values.index, 'Missing Values': missing_values.values})\n",
        "display(missing_table)"
      ]
    },
    {
      "cell_type": "markdown",
      "metadata": {},
      "source": [
        "3- Statistical summary:"
      ]
    },
    {
      "cell_type": "markdown",
      "metadata": {},
      "source": [
        "- first convert age values ​​to numerical instead of ordinal:\n",
        "\n",
        "Converting the 'Age' column to numeric values is essential for the data transformation step in the project. It ensures that the data can be effectively used in later stages such as feature selection, classification, and clustering. Additionally, numeric values allow you to calculate important statistical measures like mean, variance, and standard deviation, which are required to understand the data distribution and are crucial for numeric attributes."
      ]
    },
    {
      "cell_type": "code",
      "execution_count": 275,
      "metadata": {},
      "outputs": [
        {
          "name": "stdout",
          "output_type": "stream",
          "text": [
            "Age values after converting it:\n",
            "\n",
            "0       23\n",
            "1       23\n",
            "2       18\n",
            "3       13\n",
            "4       18\n",
            "        ..\n",
            "1200    18\n",
            "1201    18\n",
            "1202    13\n",
            "1203    18\n",
            "1204    13\n",
            "Name: Age, Length: 1205, dtype: int64\n"
          ]
        }
      ],
      "source": [
        "def interval_to_midpoint(interval):\n",
        "    # Split the interval by the dash (e.g., \"1-5\" becomes [\"1\", \"5\"])\n",
        "    lower, upper = map(int, interval.split('-'))\n",
        "    # Calculate the midpoint\n",
        "    return (lower + upper) // 2\n",
        "\n",
        "# Apply the conversion function to the 'age' column\n",
        "df['Age'] = df['Age'].apply(interval_to_midpoint)\n",
        "\n",
        "# Now, the 'age' column should contain numerical midpoints\n",
        "print(\"Age values after converting it:\\n\")\n",
        "print(df['Age'])"
      ]
    },
    {
      "cell_type": "code",
      "execution_count": 276,
      "metadata": {},
      "outputs": [
        {
          "data": {
            "text/html": [
              "<div>\n",
              "<style scoped>\n",
              "    .dataframe tbody tr th:only-of-type {\n",
              "        vertical-align: middle;\n",
              "    }\n",
              "\n",
              "    .dataframe tbody tr th {\n",
              "        vertical-align: top;\n",
              "    }\n",
              "\n",
              "    .dataframe thead th {\n",
              "        text-align: right;\n",
              "    }\n",
              "</style>\n",
              "<table border=\"1\" class=\"dataframe\">\n",
              "  <thead>\n",
              "    <tr style=\"text-align: right;\">\n",
              "      <th></th>\n",
              "      <th>Age</th>\n",
              "    </tr>\n",
              "  </thead>\n",
              "  <tbody>\n",
              "    <tr>\n",
              "      <th>count</th>\n",
              "      <td>1205.000000</td>\n",
              "    </tr>\n",
              "    <tr>\n",
              "      <th>mean</th>\n",
              "      <td>17.219917</td>\n",
              "    </tr>\n",
              "    <tr>\n",
              "      <th>std</th>\n",
              "      <td>6.285479</td>\n",
              "    </tr>\n",
              "    <tr>\n",
              "      <th>min</th>\n",
              "      <td>3.000000</td>\n",
              "    </tr>\n",
              "    <tr>\n",
              "      <th>25%</th>\n",
              "      <td>13.000000</td>\n",
              "    </tr>\n",
              "    <tr>\n",
              "      <th>50%</th>\n",
              "      <td>18.000000</td>\n",
              "    </tr>\n",
              "    <tr>\n",
              "      <th>75%</th>\n",
              "      <td>23.000000</td>\n",
              "    </tr>\n",
              "    <tr>\n",
              "      <th>max</th>\n",
              "      <td>28.000000</td>\n",
              "    </tr>\n",
              "  </tbody>\n",
              "</table>\n",
              "</div>"
            ],
            "text/plain": [
              "               Age\n",
              "count  1205.000000\n",
              "mean     17.219917\n",
              "std       6.285479\n",
              "min       3.000000\n",
              "25%      13.000000\n",
              "50%      18.000000\n",
              "75%      23.000000\n",
              "max      28.000000"
            ]
          },
          "execution_count": 276,
          "metadata": {},
          "output_type": "execute_result"
        }
      ],
      "source": [
        "df.describe()"
      ]
    },
    {
      "cell_type": "markdown",
      "metadata": {},
      "source": [
        "- Count: This tells us there are 1,205 entries in the 'Age' column. Every data point in this column has a value, so there are no missing values.\n",
        "\n",
        "- Mean: The average age, after converting the intervals to midpoints, is 17.22. This value provides a central tendency, representing the \"typical\" age of individuals in the dataset.\n",
        "\n",
        "- Standard Deviation (std): The standard deviation is 6.29, which indicates how much the ages vary from the mean. A higher standard deviation would mean a wider spread of ages around the mean, while a lower value would suggest that the ages are closer to the average.\n",
        "\n",
        "- Minimum (min): The youngest age midpoint in the dataset is 3. This likely represents individuals in the youngest age range (such as \"1-5\").\n",
        "\n",
        "- 1st Quartile (25%): At the 25th percentile, the value is 13. This means that 25% of the individuals have an age midpoint of 13 or younger. It gives us a sense of the lower quarter of the age distribution.\n",
        "\n",
        "- Median (50%): The median age, or the value that lies in the middle of the dataset, is 18. Half of the individuals are younger than 18, and half are older. This is a robust measure of central tendency, less affected by extreme values compared to the mean.\n",
        "\n",
        "- 3rd Quartile (75%): At the 75th percentile, the value is 23. This indicates that 75% of the individuals have an age midpoint of 23 or younger, and 25% are older. It shows the upper range of typical ages.\n",
        "\n",
        "- Maximum (max): The oldest age midpoint in the dataset is 28. This represents the oldest individuals in the dataset, corresponding to the highest age range (like \"26-30\").\n",
        "\n",
        "These statistics help summarize the distribution of ages, showing both central tendencies (mean and median) and the spread (standard deviation, quartiles, and extremes)."
      ]
    },
    {
      "cell_type": "code",
      "execution_count": 277,
      "metadata": {},
      "outputs": [
        {
          "name": "stdout",
          "output_type": "stream",
          "text": [
            "Variance of Age: 39.50724417915386\n",
            "Median of Age: 18.0\n",
            "Mode of Age: 0    23\n",
            "Name: Age, dtype: int64\n"
          ]
        }
      ],
      "source": [
        "# Calculate the variance of the 'Age' column\n",
        "age_variance = df['Age'].var()\n",
        "print(\"Variance of Age:\", age_variance)\n",
        "\n",
        "# Calculate the median of the 'Age' column\n",
        "median_value = df[\"Age\"].median()\n",
        "print(\"Median of Age:\", median_value)\n",
        "\n",
        "# Calculate the mode of the 'Age' column\n",
        "mode_result = df[\"Age\"].mode()\n",
        "print(\"Mode of Age:\", mode_result)"
      ]
    },
    {
      "cell_type": "markdown",
      "metadata": {},
      "source": [
        "- Variance of Age: The variance measures how much the ages are spread out from the mean. A higher variance indicates more variability, while a lower variance means that the ages are closer to the mean.\n",
        "\n",
        "- Median of Age: The median is the middle value when all ages are ordered from smallest to largest. It's a robust measure of central tendency, less affected by outliers. If the median is close to the mean, it suggests a symmetric distribution. In your case, if the median was 18 (as we saw earlier), it represents the central age around which most of the data lies.\n",
        "\n",
        "- Mode of Age: The mode represents the most frequent age in the dataset. If there is a single value that occurs most often, it shows where the data is concentrated. For example, if the mode is a specific age range midpoint, it tells you that this age range is the most common among your data."
      ]
    },
    {
      "cell_type": "markdown",
      "metadata": {},
      "source": [
        "### Graphs:"
      ]
    },
    {
      "cell_type": "code",
      "execution_count": 278,
      "metadata": {},
      "outputs": [
        {
          "data": {
            "image/png": "[encoded data removed]",
            "text/plain": [
              "<Figure size 640x480 with 1 Axes>"
            ]
          },
          "metadata": {},
          "output_type": "display_data"
        }
      ],
      "source": [
        "import pandas as pd\n",
        "import matplotlib.pyplot as plt\n",
        "\n",
        "\n",
        "data = pd.read_csv('Dataset/students_adaptability_level_online_education.csv')\n",
        "\n",
        "# Bar Plot - Distribution of Adaptivity Level\n",
        "plt.figure()\n",
        "data['Adaptivity Level'].value_counts().plot(kind='bar', color='skyblue')\n",
        "plt.title('Distribution of Adaptivity Level')\n",
        "plt.xlabel('Adaptivity Level')\n",
        "plt.ylabel('Count')\n",
        "plt.grid(axis='y')\n",
        "plt.show()\n"
      ]
    },
    {
      "cell_type": "markdown",
      "metadata": {},
      "source": [
        "\n",
        "\n",
        "This bar plot displays the distribution of students' adaptability levels to online education. The x-axis represents different adaptability levels: Low, Moderate, and High, while the y-axis shows the number of students in each category. This visualization helps in understanding how students are coping with the transition to online learning, highlighting which adaptability level is the most common among them.\n",
        "\n"
      ]
    },
    {
      "cell_type": "code",
      "execution_count": 279,
      "metadata": {},
      "outputs": [
        {
          "data": {
            "image/png": "[encoded data removed]",
            "text/plain": [
              "<Figure size 640x480 with 1 Axes>"
            ]
          },
          "metadata": {},
          "output_type": "display_data"
        }
      ],
      "source": [
        "plt.figure()\n",
        "data['Internet Type'].value_counts().plot(kind='pie', autopct='%1.1f%%', colors=['#ff9999','#66b3ff','#99ff99'])\n",
        "plt.title('Distribution of Internet Type')\n",
        "plt.ylabel('')  # Remove y-label for a cleaner pie chart\n",
        "plt.show()\n"
      ]
    },
    {
      "cell_type": "markdown",
      "metadata": {},
      "source": [
        "This pie chart shows the distribution of internet types used by students for online education. The percentages inside the chart represent the proportion of each internet type (e.g., WiFi, Mobile Data) relative to the total number of students. This chart helps to identify the most common type of internet connection among students."
      ]
    },
    {
      "cell_type": "code",
      "execution_count": 280,
      "metadata": {},
      "outputs": [
        {
          "data": {
            "text/plain": [
              "<Figure size 640x480 with 0 Axes>"
            ]
          },
          "metadata": {},
          "output_type": "display_data"
        },
        {
          "data": {
            "image/png": "[encoded data removed]",
            "text/plain": [
              "<Figure size 640x480 with 1 Axes>"
            ]
          },
          "metadata": {},
          "output_type": "display_data"
        }
      ],
      "source": [
        "plt.figure()\n",
        "pd.crosstab(data['IT Student'], data['Device']).plot(kind='bar', color=['#ff9999','#66b3ff','#99ff99'])\n",
        "plt.title('IT Student vs Device Used')\n",
        "plt.xlabel('IT Student')\n",
        "plt.ylabel('Count')\n",
        "plt.grid(axis='y')\n",
        "plt.show()\n"
      ]
    },
    {
      "cell_type": "markdown",
      "metadata": {},
      "source": [
        "This bar chart illustrates the relationship between being an IT student and the device used during studies. The x-axis represents whether the student is specialized in IT or not, while the y-axis shows the number of students using each type of device (e.g., smartphones or computers). This chart highlights the most commonly used devices among both IT and non-IT students."
      ]
    },
    {
      "cell_type": "code",
      "execution_count": 281,
      "metadata": {},
      "outputs": [
        {
          "data": {
            "image/png": "[encoded data removed]",
            "text/plain": [
              "<Figure size 640x480 with 1 Axes>"
            ]
          },
          "metadata": {},
          "output_type": "display_data"
        }
      ],
      "source": [
        "plt.figure()\n",
        "data['Institution Type'].value_counts().plot(kind='pie', autopct='%1.1f%%', colors=['#ff9999','#66b3ff'])\n",
        "plt.title('Distribution of Institution Type')\n",
        "plt.ylabel('') \n",
        "plt.show()\n"
      ]
    },
    {
      "cell_type": "markdown",
      "metadata": {},
      "source": [
        "This pie chart illustrates the distribution of the type of institution where students are enrolled. The percentages inside the chart represent the proportion of students in government versus non-government institutions. This chart helps identify the most common type of institution among students."
      ]
    },
    {
      "cell_type": "code",
      "execution_count": 282,
      "metadata": {},
      "outputs": [
        {
          "data": {
            "image/png": "[encoded data removed]",
            "text/plain": [
              "<Figure size 640x480 with 1 Axes>"
            ]
          },
          "metadata": {},
          "output_type": "display_data"
        }
      ],
      "source": [
        "plt.figure()\n",
        "data['Class Duration'].value_counts().sort_index().plot(kind='bar', color='purple')\n",
        "plt.title('Distribution of Class Duration')\n",
        "plt.xlabel('Class Duration (hours)')\n",
        "plt.ylabel('Count')\n",
        "plt.grid(axis='y')\n",
        "plt.show()\n"
      ]
    },
    {
      "cell_type": "markdown",
      "metadata": {},
      "source": [
        "This bar chart shows the distribution of class durations attended by students in online education. The x-axis represents different class durations (in hours), while the y-axis shows the number of students attending each duration. This chart helps to understand the most common class duration among students."
      ]
    },
    {
      "cell_type": "code",
      "execution_count": 283,
      "metadata": {},
      "outputs": [
        {
          "data": {
            "image/png": "[encoded data removed]",
            "text/plain": [
              "<Figure size 640x480 with 1 Axes>"
            ]
          },
          "metadata": {},
          "output_type": "display_data"
        }
      ],
      "source": [
        "plt.figure()\n",
        "data['Self Lms'].value_counts().plot(kind='pie', autopct='%1.1f%%', colors=['#ff9999','#66b3ff'])\n",
        "plt.title('Distribution of Self Lms Usage')\n",
        "plt.ylabel('')  # Remove y-label for a cleaner pie chart\n",
        "plt.show()\n"
      ]
    },
    {
      "cell_type": "markdown",
      "metadata": {},
      "source": [
        "This pie chart shows the distribution of students' use of self-learning management systems (Self Lms). The percentages inside the chart represent the proportion of students who use self-learning systems compared to those who do not. This chart helps in understanding the extent to which students rely on self-learning systems in their studies."
      ]
    },
    {
      "cell_type": "code",
      "execution_count": 284,
      "metadata": {},
      "outputs": [
        {
          "data": {
            "text/plain": [
              "<Figure size 640x480 with 0 Axes>"
            ]
          },
          "metadata": {},
          "output_type": "display_data"
        },
        {
          "data": {
            "image/png": "[encoded data removed]",
            "text/plain": [
              "<Figure size 640x480 with 1 Axes>"
            ]
          },
          "metadata": {},
          "output_type": "display_data"
        }
      ],
      "source": [
        "plt.figure()\n",
        "pd.crosstab(data['Education Level'], data['Class Duration']).plot(kind='bar', stacked=True, color=['#ff9999','#66b3ff','#99ff99'])\n",
        "plt.title('Education Level vs Class Duration')\n",
        "plt.xlabel('Education Level')\n",
        "plt.ylabel('Count')\n",
        "plt.grid(axis='y')\n",
        "plt.show()\n"
      ]
    },
    {
      "cell_type": "markdown",
      "metadata": {},
      "source": [
        "This stacked bar chart illustrates the relationship between education level and class duration. The x-axis represents different education levels (such as school, college, university), while the y-axis shows the number of students attending classes of different durations. This chart helps in understanding the distribution of class durations across various education levels."
      ]
    },
    {
      "cell_type": "code",
      "execution_count": 285,
      "metadata": {},
      "outputs": [
        {
          "data": {
            "image/png": "[encoded data removed]",
            "text/plain": [
              "<Figure size 640x480 with 1 Axes>"
            ]
          },
          "metadata": {},
          "output_type": "display_data"
        }
      ],
      "source": [
        "import seaborn as sns\n",
        "import matplotlib.pyplot as plt\n",
        "\n",
        "plt.figure()\n",
        "sns.countplot(data=data, x='Location', palette='coolwarm')\n",
        "plt.title('Distribution of Students by Location')\n",
        "plt.xlabel('Location')\n",
        "plt.ylabel('Count')\n",
        "plt.grid(True)\n",
        "plt.show()"
      ]
    },
    {
      "cell_type": "markdown",
      "metadata": {},
      "source": [
        "The bar chart shows the distribution of students based on whether they are studying in their hometown or not. The x-axis represents two options (\"Yes\" and \"No\"), while the y-axis displays the number of students in each category."
      ]
    },
    {
      "cell_type": "code",
      "execution_count": 286,
      "metadata": {},
      "outputs": [
        {
          "data": {
            "image/png": "[encoded data removed]",
            "text/plain": [
              "<Figure size 640x480 with 1 Axes>"
            ]
          },
          "metadata": {},
          "output_type": "display_data"
        }
      ],
      "source": [
        "plt.figure()\n",
        "data['Gender'].value_counts().plot(kind='bar', color='orange')\n",
        "plt.title('Distribution of Gender')\n",
        "plt.xlabel('Gender')\n",
        "plt.ylabel('Count')\n",
        "plt.grid(axis='y')\n",
        "plt.show()\n"
      ]
    },
    {
      "cell_type": "markdown",
      "metadata": {},
      "source": [
        "This bar chart shows the distribution of students by gender. The x-axis represents gender (Male or Female), while the y-axis displays the number of students in each category. This chart provides an overview of the numerical distribution of genders in the student group."
      ]
    },
    {
      "cell_type": "code",
      "execution_count": 287,
      "metadata": {},
      "outputs": [
        {
          "data": {
            "image/png": "[encoded data removed]",
            "text/plain": [
              "<Figure size 640x480 with 1 Axes>"
            ]
          },
          "metadata": {},
          "output_type": "display_data"
        }
      ],
      "source": [
        "plt.figure()\n",
        "data['Age'].value_counts().sort_index().plot(kind='bar', color='green')\n",
        "plt.title('Distribution of Age')\n",
        "plt.xlabel('Age Group')\n",
        "plt.ylabel('Count')\n",
        "plt.grid(axis='y')\n",
        "plt.show()\n"
      ]
    },
    {
      "cell_type": "markdown",
      "metadata": {},
      "source": [
        "This bar chart illustrates the distribution of students' age groups. The x-axis represents the different age groups, while the y-axis shows the number of students in each age group. This chart helps to show the overall age distribution among students and identify the most common age group."
      ]
    },
    {
      "cell_type": "markdown",
      "metadata": {},
      "source": [
        "### Data Cleaning:\n",
        "1- Removing duplicates:\n",
        "\n",
        "- First, we count the number of duplicates rows, and then we remove them:"
      ]
    },
    {
      "cell_type": "code",
      "execution_count": 288,
      "metadata": {},
      "outputs": [
        {
          "name": "stdout",
          "output_type": "stream",
          "text": [
            "Number of duplicate rows: 949 \n",
            "\n",
            "DataFrame after dropping all duplicate rows:\n",
            "\n",
            "     Gender  Age Education Level Institution Type IT Student Location  \\\n",
            "0       Boy   23      University   Non Government         No      Yes   \n",
            "1      Girl   23      University   Non Government         No      Yes   \n",
            "2      Girl   18         College       Government         No      Yes   \n",
            "3      Girl   13          School   Non Government         No      Yes   \n",
            "4      Girl   18          School   Non Government         No      Yes   \n",
            "...     ...  ...             ...              ...        ...      ...   \n",
            "1124    Boy   23      University   Non Government        Yes       No   \n",
            "1132    Boy   18         College       Government         No      Yes   \n",
            "1149   Girl   18         College   Non Government         No       No   \n",
            "1160    Boy   23      University   Non Government        Yes       No   \n",
            "1197    Boy   23      University   Non Government        Yes      Yes   \n",
            "\n",
            "     Load-shedding Financial Condition Internet Type Network Type  \\\n",
            "0              Low                 Mid          Wifi           4G   \n",
            "1             High                 Mid   Mobile Data           4G   \n",
            "2              Low                 Mid          Wifi           4G   \n",
            "3              Low                 Mid   Mobile Data           4G   \n",
            "4              Low                Poor   Mobile Data           3G   \n",
            "...            ...                 ...           ...          ...   \n",
            "1124          High                 Mid   Mobile Data           3G   \n",
            "1132           Low                 Mid   Mobile Data           3G   \n",
            "1149           Low                 Mid   Mobile Data           3G   \n",
            "1160          High                 Mid   Mobile Data           3G   \n",
            "1197           Low                 Mid   Mobile Data           4G   \n",
            "\n",
            "     Class Duration Self Lms    Device Adaptivity Level  \n",
            "0               3-6       No       Tab         Moderate  \n",
            "1               1-3      Yes    Mobile         Moderate  \n",
            "2               1-3       No    Mobile         Moderate  \n",
            "3               1-3       No    Mobile         Moderate  \n",
            "4                 0       No    Mobile              Low  \n",
            "...             ...      ...       ...              ...  \n",
            "1124            3-6       No  Computer              Low  \n",
            "1132            1-3       No    Mobile         Moderate  \n",
            "1149            1-3      Yes    Mobile              Low  \n",
            "1160            1-3      Yes    Mobile         Moderate  \n",
            "1197            3-6       No  Computer         Moderate  \n",
            "\n",
            "[256 rows x 14 columns]\n"
          ]
        }
      ],
      "source": [
        "# Check for duplicate rows\n",
        "num_duplicates = df.duplicated().sum()\n",
        "print(\"Number of duplicate rows:\", num_duplicates , \"\\n\")\n",
        "\n",
        "df = df.drop_duplicates()\n",
        "print(\"DataFrame after dropping all duplicate rows:\\n\")\n",
        "print(df)\n",
        "df.to_csv('Dataset/Cleaned_dataset.csv', index=False)"
      ]
    },
    {
      "cell_type": "markdown",
      "metadata": {},
      "source": [
        "2- Handling Missing Values:\n",
        "- there is no missing values"
      ]
    },
    {
      "cell_type": "code",
      "execution_count": 289,
      "metadata": {},
      "outputs": [
        {
          "name": "stdout",
          "output_type": "stream",
          "text": [
            "\n",
            "Total number of missing values in the dataset: 0\n"
          ]
        }
      ],
      "source": [
        "data = pd.read_csv('Dataset/Cleaned_dataset.csv');\n",
        "missing_values = data.isna().sum()\n",
        "print(\"\\nTotal number of missing values in the dataset:\", missing_values.sum())"
      ]
    },
    {
      "cell_type": "markdown",
      "metadata": {},
      "source": [
        "3- Detect Outlier:\n",
        "\n",
        "- Before we handle our outliers we chose the IQR method Based on our dataset to identify how many outliers in our dataset, and it shows that we do not have outliers in Age column."
      ]
    },
    {
      "cell_type": "code",
      "execution_count": 290,
      "metadata": {},
      "outputs": [
        {
          "name": "stdout",
          "output_type": "stream",
          "text": [
            "Number of outliers in 'Age' column: 0\n"
          ]
        }
      ],
      "source": [
        "df = pd.read_csv('Dataset/Cleaned_dataset.csv')\n",
        "\n",
        "# Calculate Q1 (25th percentile) and Q3 (75th percentile)\n",
        "Q1 = df['Age'].quantile(0.25)\n",
        "Q3 = df['Age'].quantile(0.75)\n",
        "IQR = Q3 - Q1\n",
        "\n",
        "# Define outliers as any data point that lies outside of 1.5 * IQR from Q1 and Q3\n",
        "lower_bound = Q1 - 1.5 * IQR\n",
        "upper_bound = Q3 + 1.5 * IQR\n",
        "\n",
        "# Detect outliers\n",
        "outliers = df[(df['Age'] < lower_bound) | (df['Age'] > upper_bound)]\n",
        "num_outliers = outliers.shape[0]\n",
        "\n",
        "print(f\"Number of outliers in 'Age' column: {num_outliers}\")\n"
      ]
    },
    {
      "cell_type": "markdown",
      "metadata": {},
      "source": [
        "### Data Transmission:\n",
        "1- Encoding categorical data:"
      ]
    },
    {
      "cell_type": "code",
      "execution_count": 291,
      "metadata": {},
      "outputs": [],
      "source": [
        "from sklearn.preprocessing import LabelEncoder\n"
      ]
    },
    {
      "cell_type": "markdown",
      "metadata": {},
      "source": [
        "2- Normalization:"
      ]
    },
    {
      "cell_type": "code",
      "execution_count": null,
      "metadata": {},
      "outputs": [],
      "source": []
    },
    {
      "cell_type": "markdown",
      "metadata": {},
      "source": [
        "3- discretization:"
      ]
    },
    {
      "cell_type": "code",
      "execution_count": 292,
      "metadata": {},
      "outputs": [
        {
          "ename": "KeyError",
          "evalue": "\"['Descretized_Age'] not in index\"",
          "output_type": "error",
          "traceback": [
            "\u001b[0;31m---------------------------------------------------------------------------\u001b[0m",
            "\u001b[0;31mKeyError\u001b[0m                                  Traceback (most recent call last)",
            "Cell \u001b[0;32mIn[292], line 6\u001b[0m\n\u001b[1;32m      2\u001b[0m num_bins \u001b[38;5;241m=\u001b[39m \u001b[38;5;241m3\u001b[39m\n\u001b[1;32m      4\u001b[0m df[\u001b[38;5;124m'\u001b[39m\u001b[38;5;124mDiscretize_\u001b[39m\u001b[38;5;124m'\u001b[39m\u001b[38;5;241m+\u001b[39mcolumn_to_descretize] \u001b[38;5;241m=\u001b[39m pd\u001b[38;5;241m.\u001b[39mcut(df[column_to_descretize], bins\u001b[38;5;241m=\u001b[39m num_bins, labels\u001b[38;5;241m=\u001b[39m \u001b[38;5;28;01mFalse\u001b[39;00m)\n\u001b[0;32m----> 6\u001b[0m \u001b[38;5;28mprint\u001b[39m(\u001b[43mdf\u001b[49m\u001b[43m[\u001b[49m\u001b[43m[\u001b[49m\u001b[38;5;124;43m'\u001b[39;49m\u001b[38;5;124;43mAge\u001b[39;49m\u001b[38;5;124;43m'\u001b[39;49m\u001b[43m,\u001b[49m\u001b[43m \u001b[49m\u001b[38;5;124;43m'\u001b[39;49m\u001b[38;5;124;43mDescretized_Age\u001b[39;49m\u001b[38;5;124;43m'\u001b[39;49m\u001b[43m]\u001b[49m\u001b[43m]\u001b[49m)\n",
            "File \u001b[0;32m~/.local/lib/python3.12/site-packages/pandas/core/frame.py:4108\u001b[0m, in \u001b[0;36mDataFrame.__getitem__\u001b[0;34m(self, key)\u001b[0m\n\u001b[1;32m   4106\u001b[0m     \u001b[38;5;28;01mif\u001b[39;00m is_iterator(key):\n\u001b[1;32m   4107\u001b[0m         key \u001b[38;5;241m=\u001b[39m \u001b[38;5;28mlist\u001b[39m(key)\n\u001b[0;32m-> 4108\u001b[0m     indexer \u001b[38;5;241m=\u001b[39m \u001b[38;5;28;43mself\u001b[39;49m\u001b[38;5;241;43m.\u001b[39;49m\u001b[43mcolumns\u001b[49m\u001b[38;5;241;43m.\u001b[39;49m\u001b[43m_get_indexer_strict\u001b[49m\u001b[43m(\u001b[49m\u001b[43mkey\u001b[49m\u001b[43m,\u001b[49m\u001b[43m \u001b[49m\u001b[38;5;124;43m\"\u001b[39;49m\u001b[38;5;124;43mcolumns\u001b[39;49m\u001b[38;5;124;43m\"\u001b[39;49m\u001b[43m)\u001b[49m[\u001b[38;5;241m1\u001b[39m]\n\u001b[1;32m   4110\u001b[0m \u001b[38;5;66;03m# take() does not accept boolean indexers\u001b[39;00m\n\u001b[1;32m   4111\u001b[0m \u001b[38;5;28;01mif\u001b[39;00m \u001b[38;5;28mgetattr\u001b[39m(indexer, \u001b[38;5;124m\"\u001b[39m\u001b[38;5;124mdtype\u001b[39m\u001b[38;5;124m\"\u001b[39m, \u001b[38;5;28;01mNone\u001b[39;00m) \u001b[38;5;241m==\u001b[39m \u001b[38;5;28mbool\u001b[39m:\n",
            "File \u001b[0;32m~/.local/lib/python3.12/site-packages/pandas/core/indexes/base.py:6200\u001b[0m, in \u001b[0;36mIndex._get_indexer_strict\u001b[0;34m(self, key, axis_name)\u001b[0m\n\u001b[1;32m   6197\u001b[0m \u001b[38;5;28;01melse\u001b[39;00m:\n\u001b[1;32m   6198\u001b[0m     keyarr, indexer, new_indexer \u001b[38;5;241m=\u001b[39m \u001b[38;5;28mself\u001b[39m\u001b[38;5;241m.\u001b[39m_reindex_non_unique(keyarr)\n\u001b[0;32m-> 6200\u001b[0m \u001b[38;5;28;43mself\u001b[39;49m\u001b[38;5;241;43m.\u001b[39;49m\u001b[43m_raise_if_missing\u001b[49m\u001b[43m(\u001b[49m\u001b[43mkeyarr\u001b[49m\u001b[43m,\u001b[49m\u001b[43m \u001b[49m\u001b[43mindexer\u001b[49m\u001b[43m,\u001b[49m\u001b[43m \u001b[49m\u001b[43maxis_name\u001b[49m\u001b[43m)\u001b[49m\n\u001b[1;32m   6202\u001b[0m keyarr \u001b[38;5;241m=\u001b[39m \u001b[38;5;28mself\u001b[39m\u001b[38;5;241m.\u001b[39mtake(indexer)\n\u001b[1;32m   6203\u001b[0m \u001b[38;5;28;01mif\u001b[39;00m \u001b[38;5;28misinstance\u001b[39m(key, Index):\n\u001b[1;32m   6204\u001b[0m     \u001b[38;5;66;03m# GH 42790 - Preserve name from an Index\u001b[39;00m\n",
            "File \u001b[0;32m~/.local/lib/python3.12/site-packages/pandas/core/indexes/base.py:6252\u001b[0m, in \u001b[0;36mIndex._raise_if_missing\u001b[0;34m(self, key, indexer, axis_name)\u001b[0m\n\u001b[1;32m   6249\u001b[0m     \u001b[38;5;28;01mraise\u001b[39;00m \u001b[38;5;167;01mKeyError\u001b[39;00m(\u001b[38;5;124mf\u001b[39m\u001b[38;5;124m\"\u001b[39m\u001b[38;5;124mNone of [\u001b[39m\u001b[38;5;132;01m{\u001b[39;00mkey\u001b[38;5;132;01m}\u001b[39;00m\u001b[38;5;124m] are in the [\u001b[39m\u001b[38;5;132;01m{\u001b[39;00maxis_name\u001b[38;5;132;01m}\u001b[39;00m\u001b[38;5;124m]\u001b[39m\u001b[38;5;124m\"\u001b[39m)\n\u001b[1;32m   6251\u001b[0m not_found \u001b[38;5;241m=\u001b[39m \u001b[38;5;28mlist\u001b[39m(ensure_index(key)[missing_mask\u001b[38;5;241m.\u001b[39mnonzero()[\u001b[38;5;241m0\u001b[39m]]\u001b[38;5;241m.\u001b[39munique())\n\u001b[0;32m-> 6252\u001b[0m \u001b[38;5;28;01mraise\u001b[39;00m \u001b[38;5;167;01mKeyError\u001b[39;00m(\u001b[38;5;124mf\u001b[39m\u001b[38;5;124m\"\u001b[39m\u001b[38;5;132;01m{\u001b[39;00mnot_found\u001b[38;5;132;01m}\u001b[39;00m\u001b[38;5;124m not in index\u001b[39m\u001b[38;5;124m\"\u001b[39m)\n",
            "\u001b[0;31mKeyError\u001b[0m: \"['Descretized_Age'] not in index\""
          ]
        }
      ],
      "source": [
        "column_to_descretize = 'Age'\n",
        "num_bins = 3\n",
        "\n",
        "df['Discretize_'+column_to_descretize] = pd.cut(df[column_to_descretize], bins= num_bins, labels= False)\n",
        "\n",
        "print(df[['Age', 'Descretized_Age']])"
      ]
    },
    {
      "cell_type": "markdown",
      "metadata": {},
      "source": [
        "4- aggregation"
      ]
    },
    {
      "cell_type": "markdown",
      "metadata": {},
      "source": [
        "### Feature selection:\n",
        "We will implement feature selection to remove redundant or irrelevant attributes from the dataset, aiming to get the smallest subset that can provide the most accurate predictions for our target classes, Adaptivity Level and Education Level. This will also reduce the time it takes for the classifier to process the data."
      ]
    },
    {
      "cell_type": "markdown",
      "metadata": {},
      "source": [
        "1- Correlation Coefficient:\n",
        "\n",
        "We would typically use the Correlation Coefficient to assess relationships between numerical attributes, but in this case, our dataset does not contain two numerical attributes to perform this analysis."
      ]
    },
    {
      "cell_type": "markdown",
      "metadata": {},
      "source": [
        "2- Drop uncorrelated columns:\n",
        "\n",
        "Since we only have one numerical attribute in the dataset, we cannot assess correlation between multiple numeric attributes. Therefore, there will be no need to drop any columns based on correlation, as there are no uncorrelated numerical attributes to consider. We will retain the existing numerical column."
      ]
    },
    {
      "cell_type": "markdown",
      "metadata": {},
      "source": [
        "3- Chi square \n",
        "\n",
        "We create a contingency table to analyze the relationship between 'Adaptivity Level' and 'Education Level', and then perform a Chi-Square test to determine if there is a significant association between these two categorical variables."
      ]
    },
    {
      "cell_type": "code",
      "execution_count": 118,
      "metadata": {},
      "outputs": [
        {
          "name": "stdout",
          "output_type": "stream",
          "text": [
            "Contingency Table:\n",
            "Education Level   College  School  University\n",
            "Adaptivity Level                             \n",
            "High                    1      11          12\n",
            "Low                    28      37          49\n",
            "Moderate               24      33          60\n",
            "\n",
            "Chi-Square Statistic: 6.829133397962202\n",
            "Degrees of Freedom: 4\n",
            "Expected Frequencies:\n",
            "[[ 4.98823529  7.62352941 11.38823529]\n",
            " [23.69411765 36.21176471 54.09411765]\n",
            " [24.31764706 37.16470588 55.51764706]]\n"
          ]
        }
      ],
      "source": [
        "\n",
        "from scipy.stats import chi2_contingency\n",
        "\n",
        "# Create a contingency table\n",
        "contingency_table = pd.crosstab(df['Adaptivity Level'], df['Education Level'])\n",
        "print(\"Contingency Table:\")\n",
        "print(contingency_table)\n",
        "\n",
        "# Perform the chi-square test\n",
        "chi2_stat, p_value, dof, expected = chi2_contingency(contingency_table)\n",
        "\n",
        "# Print the results of the chi-square test\n",
        "print(\"\\nChi-Square Statistic:\", chi2_stat)\n",
        "print(\"Degrees of Freedom:\", dof)\n",
        "print(\"Expected Frequencies:\")\n",
        "print(expected)\n"
      ]
    },
    {
      "cell_type": "markdown",
      "metadata": {},
      "source": [
        "4- Feature selection\n",
        "\n",
        "\n",
        "We will use Recursive Feature Elimination (RFE), which is a wrapper method for feature selection that recursively removes the least important features based on model performance."
      ]
    },
    {
      "cell_type": "code",
      "execution_count": 92,
      "metadata": {},
      "outputs": [
        {
          "name": "stdout",
          "output_type": "stream",
          "text": [
            "Selected Features: [1, 2]\n"
          ]
        }
      ],
      "source": [
        "from sklearn.linear_model import LogisticRegression\n",
        "from sklearn.feature_selection import RFE\n",
        "from sklearn.preprocessing import OneHotEncoder\n",
        "# Identify categorical columns\n",
        "categorical_columns = ['Adaptivity Level', 'Education Level']\n",
        "\n",
        "# One-hot encode categorical columns\n",
        "encoder = OneHotEncoder()\n",
        "X_encoded = encoder.fit_transform(df[categorical_columns])\n",
        "\n",
        "# Define target variable\n",
        "y = df['Adaptivity Level']\n",
        "\n",
        "# Use RFE with Logistic Regression as the underlying model\n",
        "model = LogisticRegression()\n",
        "rfe = RFE(model, n_features_to_select=2) \n",
        "X_new = rfe.fit_transform(X_encoded, y)\n",
        "# Display the selected features\n",
        "selected_features = [i for i, mask in enumerate(rfe.support_) if mask]\n",
        "print(\"Selected Features:\", selected_features)"
      ]
    }
  ],
  "metadata": {
    "kernelspec": {
      "display_name": "Python 3",
      "language": "python",
      "name": "python3"
    },
    "language_info": {
      "codemirror_mode": {
        "name": "ipython",
        "version": 3
      },
      "file_extension": ".py",
      "mimetype": "text/x-python",
      "name": "python",
      "nbconvert_exporter": "python",
      "pygments_lexer": "ipython3",
      "version": "3.12.1"
    }
  },
  "nbformat": 4,
  "nbformat_minor": 4
}
