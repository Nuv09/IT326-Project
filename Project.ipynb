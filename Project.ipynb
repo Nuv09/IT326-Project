{
 "cells": [
  {
   "cell_type": "code",
   "execution_count": null,
   "id": "8c35cafa-65e9-4cf4-abeb-6d138386ad63",
   "metadata": {},
   "outputs": [],
   "source": [
    "IT326 Project"
   ]
  },
  {
   "cell_type": "code",
   "execution_count": 1,
   "id": "9fbc8b93-f336-4f3a-b765-f81181f6d2f2",
   "metadata": {},
   "outputs": [
    {
     "name": "stdout",
     "output_type": "stream",
     "text": [
      "IT326\n"
     ]
    }
   ],
   "source": [
    "print(\"IT326\")"
   ]
  },
  {
   "cell_type": "code",
   "execution_count": null,
   "id": "acc7aff1-e291-4449-8be1-bc8df45a6536",
   "metadata": {},
   "outputs": [],
   "source": []
  }
 ],
 "metadata": {
  "kernelspec": {
   "display_name": "Python 3 (ipykernel)",
   "language": "python",
   "name": "python3"
  },
  "language_info": {
   "codemirror_mode": {
    "name": "ipython",
    "version": 3
   },
   "file_extension": ".py",
   "mimetype": "text/x-python",
   "name": "python",
   "nbconvert_exporter": "python",
   "pygments_lexer": "ipython3",
   "version": "3.12.4"
  }
 },
 "nbformat": 4,
 "nbformat_minor": 5
}
