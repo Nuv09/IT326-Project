{
  "cells": [
    {
      "cell_type": "markdown",
      "metadata": {},
      "source": [
        "# Phase#1:\n",
        "\n",
        "## Goal of Collecting the Dataset: \n",
        "\n",
        "The dataset was collected to evaluate and predict students' adaptability levels in online education. It enables data scientists and researchers to explore factors influencing student performance and adaptability in virtual learning environments.\n",
        "\n",
        "## Source of the Dataset: \n",
        "Kaggle Platform Dataset link: https://www.kaggle.com/datasets/mdmahmudulhasansuzan/students-adaptability-level-in-online-education\n",
        "\n",
        "**Read dataset** "
      ]
    },
    {
      "cell_type": "code",
      "execution_count": 3,
      "metadata": {
        "trusted": true
      },
      "outputs": [],
      "source": [
        "import pandas as pd\n",
        "\n",
        "df = pd.read_csv('Dataset/students_adaptability_level_online_education.csv')"
      ]
    },
    {
      "cell_type": "markdown",
      "metadata": {},
      "source": [
        "## General information about the dataset:\n",
        "\n",
        "- Number of Attributes: 14\n",
        "\n",
        "- Number of Objects: 1205 (students)\n",
        "\n",
        "- Class Name: Adaptivity Level"
      ]
    },
    {
      "cell_type": "code",
      "execution_count": 4,
      "metadata": {
        "trusted": true
      },
      "outputs": [
        {
          "name": "stdout",
          "output_type": "stream",
          "text": [
            "<class 'pandas.core.frame.DataFrame'>\n",
            "RangeIndex: 1205 entries, 0 to 1204\n",
            "Data columns (total 14 columns):\n",
            " #   Column               Non-Null Count  Dtype \n",
            "---  ------               --------------  ----- \n",
            " 0   Gender               1205 non-null   object\n",
            " 1   Age                  1205 non-null   object\n",
            " 2   Education Level      1205 non-null   object\n",
            " 3   Institution Type     1205 non-null   object\n",
            " 4   IT Student           1205 non-null   object\n",
            " 5   Location             1205 non-null   object\n",
            " 6   Load-shedding        1205 non-null   object\n",
            " 7   Financial Condition  1205 non-null   object\n",
            " 8   Internet Type        1205 non-null   object\n",
            " 9   Network Type         1205 non-null   object\n",
            " 10  Class Duration       1205 non-null   object\n",
            " 11  Self Lms             1205 non-null   object\n",
            " 12  Device               1205 non-null   object\n",
            " 13  Adaptivity Level     1205 non-null   object\n",
            "dtypes: object(14)\n",
            "memory usage: 131.9+ KB\n"
          ]
        }
      ],
      "source": [
        "df.info()"
      ]
    },
    {
      "cell_type": "markdown",
      "metadata": {},
      "source": [
        "## Type of Attributes:"
      ]
    },
    {
      "cell_type": "markdown",
      "metadata": {},
      "source": [
        "| Attributes Name | Data type |\n",
        "|----------|----------|\n",
        "| Gender | Binary (Symmetric) |\n",
        "| Age | Ordinal |\n",
        "| Education Leve | Ordinal |\n",
        "| Institution Type | Binary (Asymmetric) |\n",
        "| IT Studen | Binary (Asymmetric) |\n",
        "| Location | Binary (Asymmetric) |\n",
        "| Load-shedding | Binary (Asymmetric) |\n",
        "| Financial Condition | Ordinal |\n",
        "| Internet Type | Nominal |\n",
        "| Network Type | Nominal |\n",
        "| Class Duration | Ordinal |\n",
        "| Self Lms | Binary (Asymmetric) |\n",
        "| Device | Nominal |\n",
        "| Adaptivity Level | Ordinal |"
      ]
    },
    {
      "cell_type": "code",
      "execution_count": null,
      "metadata": {
        "trusted": true
      },
      "outputs": [],
      "source": []
    }
  ],
  "metadata": {
    "kernelspec": {
      "display_name": "Python 3",
      "language": "python",
      "name": "python3"
    },
    "language_info": {
      "codemirror_mode": {
        "name": "ipython",
        "version": 3
      },
      "file_extension": ".py",
      "mimetype": "text/x-python",
      "name": "python",
      "nbconvert_exporter": "python",
      "pygments_lexer": "ipython3",
      "version": "3.12.1"
    }
  },
  "nbformat": 4,
  "nbformat_minor": 4
}
