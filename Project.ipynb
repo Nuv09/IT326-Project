{
  "metadata": {
    "kernelspec": {
      "name": "python",
      "display_name": "Python (Pyodide)",
      "language": "python"
    },
    "language_info": {
      "codemirror_mode": {
        "name": "python",
        "version": 3
      },
      "file_extension": ".py",
      "mimetype": "text/x-python",
      "name": "python",
      "nbconvert_exporter": "python",
      "pygments_lexer": "ipython3",
      "version": "3.8"
    }
  },
  "nbformat_minor": 4,
  "nbformat": 4,
  "cells": [
    {
      "cell_type": "markdown",
      "source": "# IT326: Data mining project\n# Phase#1:\n\n## Goal of Collecting the Dataset: \n\nThe dataset was collected to evaluate and predict students' adaptability levels in online education. It enables data scientists and researchers to explore factors influencing student performance and adaptability in virtual learning environments.\n\n## Source of the Dataset: \nKaggle Platform Dataset link: https://www.kaggle.com/datasets/mdmahmudulhasansuzan/students-adaptability-level-in-online-education\n\n**Read dataset** ",
      "metadata": {}
    },
    {
      "cell_type": "code",
      "source": "import pandas as pd\n\ndf = pd.read_csv('students_adaptability_level_online_education.csv')",
      "metadata": {
        "trusted": true
      },
      "outputs": [],
      "execution_count": 3
    },
    {
      "cell_type": "markdown",
      "source": "## General information about the dataset:\n\n- Number of Attributes: 14\n\n- Number of Objects: 1205 (students)\n\n- Class Name: Adaptivity Level",
      "metadata": {}
    },
    {
      "cell_type": "code",
      "source": "df.info()",
      "metadata": {
        "trusted": true
      },
      "outputs": [
        {
          "name": "stdout",
          "text": "<class 'pandas.core.frame.DataFrame'>\nRangeIndex: 1205 entries, 0 to 1204\nData columns (total 14 columns):\n #   Column               Non-Null Count  Dtype \n---  ------               --------------  ----- \n 0   Gender               1205 non-null   object\n 1   Age                  1205 non-null   object\n 2   Education Level      1205 non-null   object\n 3   Institution Type     1205 non-null   object\n 4   IT Student           1205 non-null   object\n 5   Location             1205 non-null   object\n 6   Load-shedding        1205 non-null   object\n 7   Financial Condition  1205 non-null   object\n 8   Internet Type        1205 non-null   object\n 9   Network Type         1205 non-null   object\n 10  Class Duration       1205 non-null   object\n 11  Self Lms             1205 non-null   object\n 12  Device               1205 non-null   object\n 13  Adaptivity Level     1205 non-null   object\ndtypes: object(14)\nmemory usage: 66.0+ KB\n",
          "output_type": "stream"
        }
      ],
      "execution_count": 4
    },
    {
      "cell_type": "markdown",
      "source": "## Type of Attributes:",
      "metadata": {}
    },
    {
      "cell_type": "markdown",
      "source": "| Attributes Name | Data type | Description | Possible Values |\n|----------|----------|----------|----------|\n| Gender | Binary | Student's gender type | Girl, Boy |\n| Age | Ordinal | Student's age range | 1-5, 6-10, 11-15, 16-20, 21-25, 26-30 |\n| Education Leve | Nominal | Student's education institution level | School, College, University |\n| Institution Type | Binary | Student's education institution type | Government, Non Government |\n| IT Studen | Binary | Whether the student is studying IT or not | Yes, No |\n| Location | Binary | Whether the student is studying in their hometown | Yes, No |\n| Load-shedding | Binary | Level of load shedding | High, Low |\n| Financial Condition | Ordinal | Student's family's financial condition | Rich, Mid, Poor |\n| Internet Type | Binary | Student's most used internet type | Wifi, Mobile Data |\n| Network Type | Ordinal | Network connectivity type | 2G, 3G, 4G |\n| Class Duration | Ordinal | Student's daily class duration in hours | 0, 1-3, 3-6 |\n| Self Lms | Binary | Whether the student's institution has its own LMS | Yes, No |\n| Device | Nominal | Student's most used device in class | Computer, Tab, Mobile |\n| Adaptivity Level | Ordinal | Student's adaptibility level to online education | High, Moderate, Low |",
      "metadata": {}
    },
    {
      "cell_type": "code",
      "source": "",
      "metadata": {
        "trusted": true
      },
      "outputs": [],
      "execution_count": null
    }
  ]
}